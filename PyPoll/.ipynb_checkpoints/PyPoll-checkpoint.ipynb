{
 "cells": [
  {
   "cell_type": "code",
   "execution_count": 1,
   "id": "ac673cd3",
   "metadata": {},
   "outputs": [],
   "source": [
    "import csv\n",
    "import os\n",
    "\n",
    "#data input and output, source and destination \n",
    "file_input = os.path.join(\".\", \"Resources\", \"election_data.csv\")\n",
    "file_output = os.path.join(\".\", \"Analysis\", \"data_analysis.txt\")\n",
    "\n",
    "\n"
   ]
  },
  {
   "cell_type": "code",
   "execution_count": 2,
   "id": "af24273f",
   "metadata": {},
   "outputs": [],
   "source": [
    "#Declared variables set to ZERO, empty string, empty list and empty dictionary - to start\n",
    "total_votes = 0\n",
    "winner_votes = 0\n",
    "winner_name = \"\"\n",
    "candidate_list = []\n",
    "candidate_dictionary = {}"
   ]
  },
  {
   "cell_type": "code",
   "execution_count": 3,
   "id": "1101a304",
   "metadata": {},
   "outputs": [],
   "source": [
    "#Open data file\n",
    "with open(file_input) as election_data:\n",
    "#Read the data which is in csv file\n",
    "    csvreader = csv.reader(election_data)\n",
    "    #Pull out the header, Also skips the header row. Rest of rows are data\n",
    "    header = next(csvreader)\n",
    "    \n",
    "    #Since remaining rows are each votes, total rows = total number of votes\n",
    "    for row in csvreader:\n",
    "        total_votes += 1\n",
    "        \n",
    "        #In the CSV, candidate names are located in Index 2, third column \n",
    "        #This line of code will extract a candidate name for each row\n",
    "        candidate_name = row[2]\n",
    "        \n",
    "        #Logic to collect unique candidate name and add to list of candidates\n",
    "        #Also building a dictionary where candidate is key, value is votes starting at ZERO\n",
    "        if candidate_name not in candidate_list:\n",
    "            candidate_list.append(candidate_name)\n",
    "            candidate_dictionary[candidate_name] = 0\n",
    "        \n",
    "        #If candidate name is already in the dictionary, this tallys the votes per candidate\n",
    "        candidate_dictionary[candidate_name] += 1\n",
    "    \n"
   ]
  },
  {
   "cell_type": "code",
   "execution_count": 4,
   "id": "0d205c28",
   "metadata": {},
   "outputs": [
    {
     "name": "stdout",
     "output_type": "stream",
     "text": [
      "\n",
      "Election Results\n",
      "-------------------------\n",
      "Total Votes: 369711\n",
      "-------------------------\n",
      "\n",
      "Charles Casper Stockham: 23.049% (85213)\n",
      "\n",
      "Diana DeGette: 73.812% (272892)\n",
      "\n",
      "Raymon Anthony Doane: 3.139% (11606)\n",
      "\n",
      "-------------------------\n",
      "Winner: Diana DeGette\n",
      "-------------------------\n",
      "\n"
     ]
    }
   ],
   "source": [
    "\n",
    "#Output data to text file\n",
    "with open(file_output, \"w\") as election_analysis:\n",
    "    #This is the output of the first part of desired results\n",
    "    election_part1 = (\n",
    "        f\"\\nElection Results\\n\"\n",
    "        f\"-------------------------\\n\"\n",
    "        f\"Total Votes: {total_votes}\\n\"\n",
    "        f\"-------------------------\\n\")\n",
    "    #Print part 1 of 3 of analysis/results.\n",
    "    print(election_part1)\n",
    "    \n",
    "    #Writes part 1 of analysis to text output file\n",
    "    election_analysis.write(election_part1)\n",
    "    \n",
    "    #Using dictionary, this code finds candidate as key and associated total votes\n",
    "    for candidate,votes in candidate_dictionary.items():\n",
    "        #Simple percentage calculation\n",
    "        percentage_votes = votes/total_votes * 100\n",
    "        \n",
    "        #Assembling part 2 of 3 of election results: Candidates, percentage votes, votes\n",
    "        election_part2 = (\n",
    "        f\"{candidate}: {round(percentage_votes, ndigits=3)}% ({votes})\\n\"\n",
    "        ) #Rounding function used to round percentage to 3 decimals\n",
    "        \n",
    "        #Prints out results Part 2\n",
    "        print(election_part2)\n",
    "        #Outputs analysis to text file\n",
    "        election_analysis.write(election_part2)\n",
    "        \n",
    "        #Finds the candidate with most votes in the dictionary and declares winner\n",
    "        if (votes > winner_votes):\n",
    "            winner_votes = votes\n",
    "            winner_name = candidate\n",
    "    \n",
    "    #Part 3 of 3 of election results declares the winner\n",
    "    election_part3 = (   \n",
    "        f\"-------------------------\\n\"\n",
    "        f\"Winner: {winner_name}\\n\"\n",
    "        f\"-------------------------\\n\")\n",
    "    #Print Winner\n",
    "    print(election_part3)\n",
    "    \n",
    "    #Write/Output part 3 of results, the winner, to the text file\n",
    "    election_analysis.write(election_part3)\n",
    "            \n",
    "        \n",
    "     "
   ]
  },
  {
   "cell_type": "code",
   "execution_count": null,
   "id": "148d4660",
   "metadata": {},
   "outputs": [],
   "source": []
  }
 ],
 "metadata": {
  "kernelspec": {
   "display_name": "Python 3 (ipykernel)",
   "language": "python",
   "name": "python3"
  },
  "language_info": {
   "codemirror_mode": {
    "name": "ipython",
    "version": 3
   },
   "file_extension": ".py",
   "mimetype": "text/x-python",
   "name": "python",
   "nbconvert_exporter": "python",
   "pygments_lexer": "ipython3",
   "version": "3.9.13"
  }
 },
 "nbformat": 4,
 "nbformat_minor": 5
}
