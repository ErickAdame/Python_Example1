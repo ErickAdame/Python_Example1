{
 "cells": [
  {
   "cell_type": "code",
   "execution_count": 70,
   "id": "ac673cd3",
   "metadata": {},
   "outputs": [],
   "source": [
    "import csv\n",
    "import os\n",
    "\n",
    "file_input = os.path.join(\".\", \"Resources\", \"election_data.csv\")\n",
    "file_output = os.path.join(\".\", \"Analysis\", \"data_analysis.txt\")\n",
    "\n",
    "\n"
   ]
  },
  {
   "cell_type": "code",
   "execution_count": 71,
   "id": "af24273f",
   "metadata": {},
   "outputs": [],
   "source": [
    "total_votes = 0\n",
    "winner_votes = 0\n",
    "winner_name = \"\"\n",
    "candidate_list = []\n",
    "candidate_dictionary = {}"
   ]
  },
  {
   "cell_type": "code",
   "execution_count": 72,
   "id": "1101a304",
   "metadata": {},
   "outputs": [],
   "source": [
    "with open(file_input) as election_data:\n",
    "\n",
    "    csvreader = csv.reader(election_data)\n",
    "    \n",
    "    header = next(csvreader)\n",
    "    \n",
    "    for row in csvreader:\n",
    "        total_votes += 1\n",
    "        \n",
    "        candidate_name = row[2]\n",
    "        \n",
    "        if candidate_name not in candidate_list:\n",
    "            candidate_list.append(candidate_name)\n",
    "            candidate_dictionary[candidate_name] = 0\n",
    "        \n",
    "        candidate_dictionary[candidate_name] += 1\n",
    "    \n"
   ]
  },
  {
   "cell_type": "code",
   "execution_count": 78,
   "id": "0d205c28",
   "metadata": {},
   "outputs": [
    {
     "name": "stdout",
     "output_type": "stream",
     "text": [
      "\n",
      "Election Results\n",
      "-------------------------\n",
      "Total Votes: 369711\n",
      "-------------------------\n",
      "\n",
      "Charles Casper Stockham: 23.049% (85213)\n",
      "\n",
      "Diana DeGette: 73.812% (272892)\n",
      "\n",
      "Raymon Anthony Doane: 3.139% (11606)\n",
      "\n",
      "-------------------------\n",
      "Winner: Diana DeGette\n",
      "-------------------------\n",
      "\n"
     ]
    }
   ],
   "source": [
    "with open(file_output, \"w\") as election_analysis:\n",
    "    election_part1 = (\n",
    "        f\"\\nElection Results\\n\"\n",
    "        f\"-------------------------\\n\"\n",
    "        f\"Total Votes: {total_votes}\\n\"\n",
    "        f\"-------------------------\\n\")\n",
    "    print(election_part1)\n",
    "    \n",
    "    election_analysis.write(election_part1)\n",
    "    \n",
    "    for candidate,votes in candidate_dictionary.items():\n",
    "        percentage_votes = votes/total_votes * 100\n",
    "        \n",
    "        \n",
    "        election_part2 = (\n",
    "        f\"{candidate}: {round(percentage_votes, ndigits=3)}% ({votes})\\n\"\n",
    "        )\n",
    "        print(election_part2)\n",
    "        election_analysis.write(election_part2)\n",
    "        \n",
    "    \n",
    "        if (votes > winner_votes):\n",
    "            winner_votes = votes\n",
    "            winner_name = candidate\n",
    "            \n",
    "    election_part3 = (   \n",
    "        f\"-------------------------\\n\"\n",
    "        f\"Winner: {winner_name}\\n\"\n",
    "        f\"-------------------------\\n\")\n",
    "    print(election_part3)\n",
    "    \n",
    "    election_analysis.write(election_part3)\n",
    "            \n",
    "        \n",
    "        #election_analysis.write(f\"{candidate}: {percentage_votes}% ({votes})\")\n",
    "        \n",
    "     "
   ]
  },
  {
   "cell_type": "code",
   "execution_count": null,
   "id": "473a2c44",
   "metadata": {},
   "outputs": [],
   "source": []
  },
  {
   "cell_type": "code",
   "execution_count": null,
   "id": "accd6126",
   "metadata": {},
   "outputs": [],
   "source": []
  },
  {
   "cell_type": "code",
   "execution_count": 68,
   "id": "b4f23094",
   "metadata": {},
   "outputs": [],
   "source": []
  },
  {
   "cell_type": "code",
   "execution_count": 69,
   "id": "1945e6a0",
   "metadata": {},
   "outputs": [],
   "source": []
  },
  {
   "cell_type": "code",
   "execution_count": null,
   "id": "65c73692",
   "metadata": {},
   "outputs": [],
   "source": []
  }
 ],
 "metadata": {
  "kernelspec": {
   "display_name": "Python 3 (ipykernel)",
   "language": "python",
   "name": "python3"
  },
  "language_info": {
   "codemirror_mode": {
    "name": "ipython",
    "version": 3
   },
   "file_extension": ".py",
   "mimetype": "text/x-python",
   "name": "python",
   "nbconvert_exporter": "python",
   "pygments_lexer": "ipython3",
   "version": "3.9.13"
  }
 },
 "nbformat": 4,
 "nbformat_minor": 5
}
