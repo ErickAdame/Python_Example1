{
 "cells": [
  {
   "cell_type": "code",
   "execution_count": 19,
   "id": "006a85f1",
   "metadata": {},
   "outputs": [],
   "source": [
    "#Dependecies\n",
    "import os\n",
    "import csv"
   ]
  },
  {
   "cell_type": "code",
   "execution_count": 20,
   "id": "fdde5511",
   "metadata": {},
   "outputs": [],
   "source": [
    "#paths for input and output files\n",
    "\n",
    "file_input = os.path.join(\".\", \"Resources\", \"budget_data.csv\")\n",
    "file_output = os.path.join(\".\", \"Analysis\", \"budget_analysis.txt\")\n"
   ]
  },
  {
   "cell_type": "code",
   "execution_count": 21,
   "id": "4ef9fe30",
   "metadata": {},
   "outputs": [
    {
     "name": "stdout",
     "output_type": "stream",
     "text": [
      "Financial Analysis\n",
      "--------------------\n",
      "Total Months: 85\n",
      "Total: 22564198\n",
      "Average Change: -8311.11\n",
      "Greatest Increase in profits: Aug-16 $(1862002)\n",
      "Greatest Decrease in profits: Feb-14 $(-1825558)\n"
     ]
    }
   ],
   "source": [
    "\n",
    "# Setting count to ZERO to begin with    \n",
    "total_months = 0\n",
    "total_net = 0\n",
    "\n",
    "\n",
    "net_change_list = []\n",
    "   \n",
    "\n",
    "\n",
    "#Use this list to calculate the max and min and compare with IF statements    \n",
    "greatest = [\"\",0]\n",
    "smallest = [\"\", 999999999999999999]\n",
    " \n",
    "#Read CSV file    \n",
    "with open(file_input) as budget_data:\n",
    "\n",
    "    reader = csv.reader(budget_data)\n",
    "    \n",
    "    #Reading/skipping over header, stored as variable.\n",
    "    header = next(reader)\n",
    "   \n",
    "    first_row = next(reader)\n",
    "    \n",
    "    \n",
    "    #First row plus net to calculate NEXT\n",
    "    total_net += int(first_row[1])\n",
    "\n",
    "    #Keeping track of previous to eventually find MAX or MIN\n",
    "    previous_net = int(first_row[1])\n",
    "\n",
    "    \n",
    "    \n",
    "    #loop through csv\n",
    "    for row in reader:\n",
    "        \n",
    "        #Finding total months\n",
    "        total_months = total_months +1\n",
    "       \n",
    "        #Finding total net\n",
    "        total_net += int(row[1])\n",
    "        \n",
    "        #tracking change month to month\n",
    "        net_change = int(row[1]) - previous_net\n",
    "        previous_net = int(row[1])\n",
    "        net_change_list.append(net_change)\n",
    "        \n",
    "        \n",
    "        #Greatest Montly Change Calculation\n",
    "        #For Greatest and Smallest I reference list created above\n",
    "        #Greatest: to start, is net_change bigger than ZERO? YES.\n",
    "        #Is next net change bigger previous 'greatest'? if so, its greatest\n",
    "        #Loops done for all rows for both greatest and smallest\n",
    "        if(net_change > greatest[1]): \n",
    "            greatest[0] = row[0]\n",
    "            greatest[1] = net_change\n",
    "        #smallest Montly Change Calculation    \n",
    "        if(net_change < smallest[1]):\n",
    "            smallest[0] = row[0]\n",
    "            smallest[1] = net_change\n",
    "        \n",
    "        #Calculate of month average, SUM of the list /Number in the list\n",
    "    net_monthly_average = sum(net_change_list)/(len(net_change_list)) \n",
    "output =  (\n",
    "    #Summary Analysis Prints\n",
    "    f\"Financial Analysis\\n\"\n",
    "    f\"--------------------\\n\"\n",
    "    f\"Total Months: {total_months}\\n\"\n",
    "    f\"Total: {total_net}\\n\"\n",
    "    f\"Average Change: {net_monthly_average: .2f}\\n\" #Cool trick: '.2f' formats two decimals\n",
    "    f\"Greatest Increase in profits: {greatest[0]} $({greatest[1]})\\n\"\n",
    "    f\"Greatest Decrease in profits: {smallest[0]} $({smallest[1]})\"\n",
    ")\n",
    "with open(file_output, \"w\") as text_file:\n",
    "    text_file.write(output)\n",
    "print(output)"
   ]
  },
  {
   "cell_type": "code",
   "execution_count": null,
   "id": "4e691534",
   "metadata": {},
   "outputs": [],
   "source": []
  },
  {
   "cell_type": "code",
   "execution_count": null,
   "id": "17707131",
   "metadata": {},
   "outputs": [],
   "source": []
  }
 ],
 "metadata": {
  "kernelspec": {
   "display_name": "Python 3 (ipykernel)",
   "language": "python",
   "name": "python3"
  },
  "language_info": {
   "codemirror_mode": {
    "name": "ipython",
    "version": 3
   },
   "file_extension": ".py",
   "mimetype": "text/x-python",
   "name": "python",
   "nbconvert_exporter": "python",
   "pygments_lexer": "ipython3",
   "version": "3.9.13"
  }
 },
 "nbformat": 4,
 "nbformat_minor": 5
}
